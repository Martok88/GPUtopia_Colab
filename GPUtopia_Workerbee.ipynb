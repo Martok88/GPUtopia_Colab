{
  "nbformat": 4,
  "nbformat_minor": 0,
  "metadata": {
    "colab": {
      "provenance": [],
      "gpuType": "T4",
      "authorship_tag": "ABX9TyOG3TZcCB3coR44//qVzEJ3",
      "include_colab_link": true
    },
    "kernelspec": {
      "name": "python3",
      "display_name": "Python 3"
    },
    "language_info": {
      "name": "python"
    },
    "accelerator": "GPU"
  },
  "cells": [
    {
      "cell_type": "markdown",
      "metadata": {
        "id": "view-in-github",
        "colab_type": "text"
      },
      "source": [
        "<a href=\"https://colab.research.google.com/github/Martok88/GPUtopia_Colab/blob/main/GPUtopia_Workerbee.ipynb\" target=\"_parent\"><img src=\"https://colab.research.google.com/assets/colab-badge.svg\" alt=\"Open In Colab\"/></a>"
      ]
    },
    {
      "cell_type": "code",
      "source": [
        "# @title Setup\n",
        "\n",
        "# Set environment variables\n",
        "import os\n",
        "os.environ['USE_MLOCK'] = '0'\n",
        "os.environ['CMAKE_ARGS'] = '-DLLAMA_CUBLAS=1'\n",
        "os.environ['FORCE_CMAKE'] = '1'\n",
        "\n",
        "# @markdown Release version to install, from https://github.com/ArcadeLabsInc/workerbee/releases: <br>\n",
        "# @markdown Leave blank to install from the most recent commit.\n",
        "release_version = \"\" # @param {type:\"string\"}\n",
        "release_version = release_version.strip()\n",
        "\n",
        "# Install poetry, download workerbee source, build and install it\n",
        "print(\"Installing poetry\")\n",
        "!pip install -q poetry\n",
        "if release_version:\n",
        "    !wget -O workerbee.tar.gz https://github.com/ArcadeLabsInc/workerbee/archive/refs/tags/{release_version}.tar.gz\n",
        "    !tar -xzf workerbee.tar.gz\n",
        "    %cd /content/workerbee-{release_version}\n",
        "else:\n",
        "    !git clone https://github.com/ArcadeLabsInc/workerbee\n",
        "    %cd /content/workerbee\n",
        "!poetry config virtualenvs.in-project true\n",
        "!poetry install --no-ansi"
      ],
      "metadata": {
        "id": "3rhR02WDi2cu"
      },
      "execution_count": null,
      "outputs": []
    },
    {
      "cell_type": "code",
      "source": [
        "# @title Download model and run worker test\n",
        "\n",
        "# @markdown Model to download, e.g.: <br>\n",
        "# @markdown TheBloke/vicuna-7B-v1.5-GGUF:Q4_K_M\n",
        "model_name = \"TheBloke/vicuna-7B-v1.5-GGUF:Q4_K_M\" # @param {type:\"string\"}\n",
        "model_name = model_name.strip()\n",
        "\n",
        "# Run test\n",
        "!poetry run gputopia_worker --test_model {model_name}"
      ],
      "metadata": {
        "id": "8QB2a2a0cwr9"
      },
      "execution_count": null,
      "outputs": []
    },
    {
      "cell_type": "code",
      "source": [
        "\n",
        "# @title Run worker\n",
        "\n",
        "# Set LN payment URL\n",
        "# @markdown Your LN payment URL (optional):\n",
        "ln_url = \"\" # @param {type:\"string\"}\n",
        "if ln_url:\n",
        "    ln_url = ln_url.strip()\n",
        "else:\n",
        "    ln_url = \"DONT_PAY_ME\"\n",
        "\n",
        "# Run\n",
        "!poetry run gputopia_worker --ln_url {ln_url}"
      ],
      "metadata": {
        "id": "q5UhFBVMldrt"
      },
      "execution_count": null,
      "outputs": []
    }
  ]
}