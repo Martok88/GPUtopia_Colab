{
  "nbformat": 4,
  "nbformat_minor": 0,
  "metadata": {
    "colab": {
      "provenance": [],
      "gpuType": "T4",
      "authorship_tag": "ABX9TyPZ2Bnv4G6+PtilaAzoTINJ",
      "include_colab_link": true
    },
    "kernelspec": {
      "name": "python3",
      "display_name": "Python 3"
    },
    "language_info": {
      "name": "python"
    },
    "accelerator": "GPU"
  },
  "cells": [
    {
      "cell_type": "markdown",
      "metadata": {
        "id": "view-in-github",
        "colab_type": "text"
      },
      "source": [
        "<a href=\"https://colab.research.google.com/github/Martok88/colab-notebooks/blob/main/GPUtopia_Workerbee.ipynb\" target=\"_parent\"><img src=\"https://colab.research.google.com/assets/colab-badge.svg\" alt=\"Open In Colab\"/></a>"
      ]
    },
    {
      "cell_type": "code",
      "source": [
        "#@title Setup\n",
        "\n",
        "# Set environment variables\n",
        "import os\n",
        "os.environ['USE_MLOCK'] = '0'\n",
        "os.environ['CMAKE_ARGS'] = '-DLLAMA_CUBLAS=1'\n",
        "os.environ['FORCE_CMAKE'] = '1'\n",
        "\n",
        "# Install poetry, download workerbee source, build and install it\n",
        "!pip install -q poetry\n",
        "!wget -q -O workerbee.tar.gz https://github.com/ArcadeLabsInc/workerbee/archive/refs/tags/0.1.3.tar.gz\n",
        "!tar -xzf workerbee.tar.gz\n",
        "%cd /content/workerbee-0.1.3\n",
        "!poetry config virtualenvs.in-project true\n",
        "!poetry install --no-ansi"
      ],
      "metadata": {
        "id": "3rhR02WDi2cu",
        "cellView": "form"
      },
      "execution_count": null,
      "outputs": []
    },
    {
      "cell_type": "code",
      "source": [
        "#@title Download model and run worker test\n",
        "\n",
        "!poetry run gputopia_worker --test_model TheBloke/vicuna-7B-v1.5-GGUF:Q4_K_M"
      ],
      "metadata": {
        "id": "8QB2a2a0cwr9",
        "cellView": "form"
      },
      "execution_count": null,
      "outputs": []
    },
    {
      "cell_type": "code",
      "source": [
        "#@title Run worker\n",
        "\n",
        "# Set LN payment URL\n",
        "ln_url = \"\" # @param {type:\"string\"}\n",
        "if not ln_url:\n",
        "    ln_url = \"DONT_PAY_ME\"\n",
        "\n",
        "!poetry run gputopia_worker --ln_url {ln_url}"
      ],
      "metadata": {
        "cellView": "form",
        "id": "q5UhFBVMldrt"
      },
      "execution_count": null,
      "outputs": []
    }
  ]
}
